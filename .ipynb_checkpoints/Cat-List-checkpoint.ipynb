{
 "cells": [
  {
   "cell_type": "markdown",
   "metadata": {},
   "source": [
    "### Create Category List "
   ]
  },
  {
   "cell_type": "markdown",
   "metadata": {},
   "source": [
    "### Import Pacjage"
   ]
  },
  {
   "cell_type": "code",
   "execution_count": 13,
   "metadata": {},
   "outputs": [],
   "source": [
    "import pandas as pd\n",
    "import numpy as np"
   ]
  },
  {
   "cell_type": "markdown",
   "metadata": {},
   "source": [
    "### Var "
   ]
  },
  {
   "cell_type": "code",
   "execution_count": 2,
   "metadata": {},
   "outputs": [
    {
     "name": "stdout",
     "output_type": "stream",
     "text": [
      "CPU times: user 11.2 s, sys: 618 ms, total: 11.8 s\n",
      "Wall time: 11.9 s\n"
     ]
    }
   ],
   "source": [
    "%%time\n",
    "Cat_Id = pd.read_csv('/home/mohammad/Documents/ML-Sharif/Archive_DataFrame.csv',index_col=0 ,usecols = ['subject','Unnamed: 0'],converters = {'subject' : eval})"
   ]
  },
  {
   "cell_type": "code",
   "execution_count": 3,
   "metadata": {},
   "outputs": [
    {
     "data": {
      "text/html": [
       "<div>\n",
       "<style scoped>\n",
       "    .dataframe tbody tr th:only-of-type {\n",
       "        vertical-align: middle;\n",
       "    }\n",
       "\n",
       "    .dataframe tbody tr th {\n",
       "        vertical-align: top;\n",
       "    }\n",
       "\n",
       "    .dataframe thead th {\n",
       "        text-align: right;\n",
       "    }\n",
       "</style>\n",
       "<table border=\"1\" class=\"dataframe\">\n",
       "  <thead>\n",
       "    <tr style=\"text-align: right;\">\n",
       "      <th></th>\n",
       "      <th>subject</th>\n",
       "    </tr>\n",
       "  </thead>\n",
       "  <tbody>\n",
       "    <tr>\n",
       "      <th>0705.1532</th>\n",
       "      <td>[Mathematics - Dynamical Systems]</td>\n",
       "    </tr>\n",
       "    <tr>\n",
       "      <th>0706.1373</th>\n",
       "      <td>[Nonlinear Sciences - Exactly Solvable and Int...</td>\n",
       "    </tr>\n",
       "    <tr>\n",
       "      <th>0706.2509</th>\n",
       "      <td>[High Energy Physics - Theory]</td>\n",
       "    </tr>\n",
       "    <tr>\n",
       "      <th>0708.1339</th>\n",
       "      <td>[Condensed Matter - Mesoscale and Nanoscale Ph...</td>\n",
       "    </tr>\n",
       "    <tr>\n",
       "      <th>0709.1272</th>\n",
       "      <td>[Computer Science - Mathematical Software, Com...</td>\n",
       "    </tr>\n",
       "  </tbody>\n",
       "</table>\n",
       "</div>"
      ],
      "text/plain": [
       "                                                     subject\n",
       "0705.1532                  [Mathematics - Dynamical Systems]\n",
       "0706.1373  [Nonlinear Sciences - Exactly Solvable and Int...\n",
       "0706.2509                     [High Energy Physics - Theory]\n",
       "0708.1339  [Condensed Matter - Mesoscale and Nanoscale Ph...\n",
       "0709.1272  [Computer Science - Mathematical Software, Com..."
      ]
     },
     "execution_count": 3,
     "metadata": {},
     "output_type": "execute_result"
    }
   ],
   "source": [
    "Cat_Id.head()"
   ]
  },
  {
   "cell_type": "code",
   "execution_count": 5,
   "metadata": {},
   "outputs": [
    {
     "data": {
      "text/plain": [
       "['Mathematics - Dynamical Systems']"
      ]
     },
     "execution_count": 5,
     "metadata": {},
     "output_type": "execute_result"
    }
   ],
   "source": [
    "(Cat_Id.iloc[0]['subject'])"
   ]
  },
  {
   "cell_type": "markdown",
   "metadata": {},
   "source": [
    "### Main Code"
   ]
  },
  {
   "cell_type": "code",
   "execution_count": 9,
   "metadata": {},
   "outputs": [],
   "source": [
    "def splitter(cat_entry):\n",
    "    elm = cat_entry.split(' - ')\n",
    "    if len(elm)==1:\n",
    "        return [elm[0], np.nan]\n",
    "    else:\n",
    "        return elm"
   ]
  },
  {
   "cell_type": "code",
   "execution_count": 10,
   "metadata": {},
   "outputs": [],
   "source": [
    "'''\n",
    "flag 0=> label = cat[0]\n",
    "flag 1=> label = sub_cat[0]\n",
    "flag 2=> label = cat\n",
    "flag 3=> label = sub_cat\n",
    "\n",
    "\n",
    "input cat_list is assued to be\n",
    "[cat1-subcat1,cat2-subcat2,....]\n",
    "'''\n",
    "def fun_cat(cat_list, flag=0):\n",
    "#     print(cat_list)\n",
    "    if flag==0:\n",
    "        \n",
    "        return splitter(cat_list[0])[0]\n",
    "    elif flag==1:\n",
    "#         print(cat_list[0])\n",
    "        return splitter(cat_list[0])[1]\n",
    "    elif flag==2:\n",
    "        return [splitter(c)[0] for c in cat_list]\n",
    "    elif flag==3:\n",
    "        return [splitter(c)[1] for c in cat_list]\n",
    "    "
   ]
  },
  {
   "cell_type": "code",
   "execution_count": 19,
   "metadata": {},
   "outputs": [],
   "source": [
    "# Cat_Id['subject'].apply(lambda x: fun_cat(x, flag=1) )\n",
    "# test_df = Cat_Id.copy().iloc[:100]\n",
    "# test_df.head()"
   ]
  },
  {
   "cell_type": "code",
   "execution_count": 20,
   "metadata": {},
   "outputs": [],
   "source": [
    "#test_df = Cat_Id.iloc[:1000]"
   ]
  },
  {
   "cell_type": "code",
   "execution_count": 34,
   "metadata": {},
   "outputs": [
    {
     "data": {
      "text/html": [
       "<div>\n",
       "<style scoped>\n",
       "    .dataframe tbody tr th:only-of-type {\n",
       "        vertical-align: middle;\n",
       "    }\n",
       "\n",
       "    .dataframe tbody tr th {\n",
       "        vertical-align: top;\n",
       "    }\n",
       "\n",
       "    .dataframe thead th {\n",
       "        text-align: right;\n",
       "    }\n",
       "</style>\n",
       "<table border=\"1\" class=\"dataframe\">\n",
       "  <thead>\n",
       "    <tr style=\"text-align: right;\">\n",
       "      <th></th>\n",
       "      <th>subject</th>\n",
       "    </tr>\n",
       "  </thead>\n",
       "  <tbody>\n",
       "    <tr>\n",
       "      <th>0705.1532</th>\n",
       "      <td>[Dynamical Systems]</td>\n",
       "    </tr>\n",
       "    <tr>\n",
       "      <th>0706.1373</th>\n",
       "      <td>[Exactly Solvable and Integrable Systems]</td>\n",
       "    </tr>\n",
       "    <tr>\n",
       "      <th>0706.2509</th>\n",
       "      <td>[Theory]</td>\n",
       "    </tr>\n",
       "    <tr>\n",
       "      <th>0708.1339</th>\n",
       "      <td>[Mesoscale and Nanoscale Physics, Superconduct...</td>\n",
       "    </tr>\n",
       "    <tr>\n",
       "      <th>0709.1272</th>\n",
       "      <td>[Mathematical Software, Distributed, Parallel,...</td>\n",
       "    </tr>\n",
       "    <tr>\n",
       "      <th>0709.1704</th>\n",
       "      <td>[nan, General Physics]</td>\n",
       "    </tr>\n",
       "    <tr>\n",
       "      <th>0710.2868</th>\n",
       "      <td>[nan, Statistical Mechanics]</td>\n",
       "    </tr>\n",
       "    <tr>\n",
       "      <th>0710.4005</th>\n",
       "      <td>[Fluid Dynamics, nan]</td>\n",
       "    </tr>\n",
       "    <tr>\n",
       "      <th>0711.4246</th>\n",
       "      <td>[nan, Statistical Mechanics, Probability, nan]</td>\n",
       "    </tr>\n",
       "    <tr>\n",
       "      <th>0711.4508</th>\n",
       "      <td>[Computational Complexity, Computer Vision and...</td>\n",
       "    </tr>\n",
       "  </tbody>\n",
       "</table>\n",
       "</div>"
      ],
      "text/plain": [
       "                                                     subject\n",
       "0705.1532                                [Dynamical Systems]\n",
       "0706.1373          [Exactly Solvable and Integrable Systems]\n",
       "0706.2509                                           [Theory]\n",
       "0708.1339  [Mesoscale and Nanoscale Physics, Superconduct...\n",
       "0709.1272  [Mathematical Software, Distributed, Parallel,...\n",
       "0709.1704                             [nan, General Physics]\n",
       "0710.2868                       [nan, Statistical Mechanics]\n",
       "0710.4005                              [Fluid Dynamics, nan]\n",
       "0711.4246     [nan, Statistical Mechanics, Probability, nan]\n",
       "0711.4508  [Computational Complexity, Computer Vision and..."
      ]
     },
     "execution_count": 34,
     "metadata": {},
     "output_type": "execute_result"
    }
   ],
   "source": [
    "test_df = Cat_Id.copy()\n",
    "test_df['subject'] = test_df['subject'].apply(lambda x: fun_cat(x, flag=3) )\n",
    "test_df.head(10)"
   ]
  },
  {
   "cell_type": "code",
   "execution_count": 35,
   "metadata": {},
   "outputs": [],
   "source": [
    "test_df.to_csv('ALL_SubCat.csv', sep='\\t')   \n"
   ]
  },
  {
   "cell_type": "code",
   "execution_count": 36,
   "metadata": {},
   "outputs": [
    {
     "data": {
      "text/plain": [
       "'Exactly Solvable and Integrable Systems'"
      ]
     },
     "execution_count": 36,
     "metadata": {},
     "output_type": "execute_result"
    }
   ],
   "source": [
    "fun_cat( test_df['subject'].iloc[1] )"
   ]
  },
  {
   "cell_type": "code",
   "execution_count": 163,
   "metadata": {},
   "outputs": [
    {
     "data": {
      "text/plain": [
       "['Mesoscale and Nanoscale Physics', 'Superconductivity']"
      ]
     },
     "execution_count": 163,
     "metadata": {},
     "output_type": "execute_result"
    }
   ],
   "source": [
    "[c.split(' - ',1)[1] for c in Cat_Id['subject'][3]]"
   ]
  },
  {
   "cell_type": "code",
   "execution_count": 117,
   "metadata": {},
   "outputs": [
    {
     "data": {
      "text/plain": [
       "['Mathematics - Dynamical Systems']"
      ]
     },
     "execution_count": 117,
     "metadata": {},
     "output_type": "execute_result"
    }
   ],
   "source": [
    "Cat_Id.iloc[0]['subject']"
   ]
  },
  {
   "cell_type": "code",
   "execution_count": 16,
   "metadata": {},
   "outputs": [],
   "source": [
    "# Save Just First Argument of Category\n",
    "First_Argu = []\n",
    "for i in org_Sub:\n",
    "    Temp = (i[0])\n",
    "    if '-'  in Temp : \n",
    "        MainBranch , SubBranch = Temp.split(' - ',1)\n",
    "        \n",
    "        First_Argu.append([MainBranch,SubBranch])\n",
    "        \n",
    "    else:\n",
    "        First_Argu.append([Temp,'Null'])"
   ]
  }
 ],
 "metadata": {
  "kernelspec": {
   "display_name": "Python 3",
   "language": "python",
   "name": "python3"
  },
  "language_info": {
   "codemirror_mode": {
    "name": "ipython",
    "version": 3
   },
   "file_extension": ".py",
   "mimetype": "text/x-python",
   "name": "python",
   "nbconvert_exporter": "python",
   "pygments_lexer": "ipython3",
   "version": "3.6.7"
  }
 },
 "nbformat": 4,
 "nbformat_minor": 2
}
