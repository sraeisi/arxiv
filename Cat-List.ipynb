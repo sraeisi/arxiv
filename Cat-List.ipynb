{
 "cells": [
  {
   "cell_type": "markdown",
   "metadata": {},
   "source": [
    "### Create Category List "
   ]
  },
  {
   "cell_type": "markdown",
   "metadata": {},
   "source": [
    "### Import Pacjage"
   ]
  },
  {
   "cell_type": "code",
   "execution_count": 1,
   "metadata": {},
   "outputs": [],
   "source": [
    "import pandas as pd"
   ]
  },
  {
   "cell_type": "markdown",
   "metadata": {},
   "source": [
    "### Var "
   ]
  },
  {
   "cell_type": "code",
   "execution_count": 43,
   "metadata": {},
   "outputs": [
    {
     "name": "stdout",
     "output_type": "stream",
     "text": [
      "CPU times: user 10.6 s, sys: 340 ms, total: 10.9 s\n",
      "Wall time: 10.9 s\n"
     ]
    }
   ],
   "source": [
    "%%time\n",
    "Archive_DataFrame = pd.read_csv('/home/mohammad/Documents/ML-Sharif/Archive_DataFrame.csv',index_col=0 ,usecols = ['subject','Unnamed: 0'],converters = {'subject' : eval})"
   ]
  },
  {
   "cell_type": "code",
   "execution_count": 46,
   "metadata": {},
   "outputs": [],
   "source": [
    "#Archive_DataFrame = Archive_DataFrame.rename(index=str, columns={\"Unnamed: 0\": \"ID\",})"
   ]
  },
  {
   "cell_type": "code",
   "execution_count": 47,
   "metadata": {},
   "outputs": [
    {
     "data": {
      "text/html": [
       "<div>\n",
       "<style scoped>\n",
       "    .dataframe tbody tr th:only-of-type {\n",
       "        vertical-align: middle;\n",
       "    }\n",
       "\n",
       "    .dataframe tbody tr th {\n",
       "        vertical-align: top;\n",
       "    }\n",
       "\n",
       "    .dataframe thead th {\n",
       "        text-align: right;\n",
       "    }\n",
       "</style>\n",
       "<table border=\"1\" class=\"dataframe\">\n",
       "  <thead>\n",
       "    <tr style=\"text-align: right;\">\n",
       "      <th></th>\n",
       "      <th>subject</th>\n",
       "    </tr>\n",
       "  </thead>\n",
       "  <tbody>\n",
       "    <tr>\n",
       "      <th>0705.1532</th>\n",
       "      <td>[Mathematics - Dynamical Systems]</td>\n",
       "    </tr>\n",
       "    <tr>\n",
       "      <th>0706.1373</th>\n",
       "      <td>[Nonlinear Sciences - Exactly Solvable and Int...</td>\n",
       "    </tr>\n",
       "    <tr>\n",
       "      <th>0706.2509</th>\n",
       "      <td>[High Energy Physics - Theory]</td>\n",
       "    </tr>\n",
       "    <tr>\n",
       "      <th>0708.1339</th>\n",
       "      <td>[Condensed Matter - Mesoscale and Nanoscale Ph...</td>\n",
       "    </tr>\n",
       "    <tr>\n",
       "      <th>0709.1272</th>\n",
       "      <td>[Computer Science - Mathematical Software, Com...</td>\n",
       "    </tr>\n",
       "  </tbody>\n",
       "</table>\n",
       "</div>"
      ],
      "text/plain": [
       "                                                     subject\n",
       "0705.1532                  [Mathematics - Dynamical Systems]\n",
       "0706.1373  [Nonlinear Sciences - Exactly Solvable and Int...\n",
       "0706.2509                     [High Energy Physics - Theory]\n",
       "0708.1339  [Condensed Matter - Mesoscale and Nanoscale Ph...\n",
       "0709.1272  [Computer Science - Mathematical Software, Com..."
      ]
     },
     "execution_count": 47,
     "metadata": {},
     "output_type": "execute_result"
    }
   ],
   "source": [
    "Archive_DataFrame.head()"
   ]
  },
  {
   "cell_type": "code",
   "execution_count": 49,
   "metadata": {},
   "outputs": [],
   "source": [
    "Archive_DataFrame.to_csv('Id_Cat.csv', sep='\\t')\n"
   ]
  },
  {
   "cell_type": "markdown",
   "metadata": {},
   "source": [
    "### Main Code"
   ]
  },
  {
   "cell_type": "code",
   "execution_count": 40,
   "metadata": {},
   "outputs": [],
   "source": [
    "org_Sub = (Archive_DataFrame['subject'].values)"
   ]
  },
  {
   "cell_type": "code",
   "execution_count": 41,
   "metadata": {},
   "outputs": [],
   "source": [
    "# Seperate between 1 Sub, Two or more "
   ]
  },
  {
   "cell_type": "code",
   "execution_count": 42,
   "metadata": {},
   "outputs": [
    {
     "data": {
      "text/plain": [
       "['Quantum Physics', 'Condensed Matter - Statistical Mechanics']"
      ]
     },
     "execution_count": 42,
     "metadata": {},
     "output_type": "execute_result"
    }
   ],
   "source": [
    "org_Sub[6]"
   ]
  },
  {
   "cell_type": "markdown",
   "metadata": {},
   "source": [
    "### Test Area"
   ]
  },
  {
   "cell_type": "code",
   "execution_count": 7,
   "metadata": {},
   "outputs": [
    {
     "data": {
      "text/plain": [
       "['Quantum Physics', 'Condensed Matter - Statistical Mechanics']"
      ]
     },
     "execution_count": 7,
     "metadata": {},
     "output_type": "execute_result"
    }
   ],
   "source": [
    "Archive_DataFrame.iloc[6]['subject']\n"
   ]
  },
  {
   "cell_type": "code",
   "execution_count": 19,
   "metadata": {},
   "outputs": [
    {
     "data": {
      "text/plain": [
       "['General Relativity and Quantum Cosmology',\n",
       " 'Astrophysics - Cosmology and Nongalactic Astrophysics',\n",
       " 'High Energy Physics - Theory']"
      ]
     },
     "execution_count": 19,
     "metadata": {},
     "output_type": "execute_result"
    }
   ],
   "source": [
    "Archive_DataFrame.iloc[-3]['subject']\n"
   ]
  },
  {
   "cell_type": "code",
   "execution_count": 50,
   "metadata": {},
   "outputs": [],
   "source": [
    "#Archive_DataFrame"
   ]
  },
  {
   "cell_type": "code",
   "execution_count": null,
   "metadata": {},
   "outputs": [],
   "source": []
  }
 ],
 "metadata": {
  "kernelspec": {
   "display_name": "Python 3",
   "language": "python",
   "name": "python3"
  },
  "language_info": {
   "codemirror_mode": {
    "name": "ipython",
    "version": 3
   },
   "file_extension": ".py",
   "mimetype": "text/x-python",
   "name": "python",
   "nbconvert_exporter": "python",
   "pygments_lexer": "ipython3",
   "version": "3.6.7"
  }
 },
 "nbformat": 4,
 "nbformat_minor": 2
}
