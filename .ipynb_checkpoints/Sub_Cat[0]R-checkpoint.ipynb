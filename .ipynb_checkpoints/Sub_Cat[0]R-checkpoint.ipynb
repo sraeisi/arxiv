{
 "cells": [
  {
   "cell_type": "code",
   "execution_count": 2,
   "metadata": {},
   "outputs": [],
   "source": [
    "import numpy as np\n",
    "import pandas as pd\n",
    "import matplotlib.pyplot as plt\n",
    "#from nltk import "
   ]
  },
  {
   "cell_type": "markdown",
   "metadata": {},
   "source": [
    "### Importing data"
   ]
  },
  {
   "cell_type": "code",
   "execution_count": 12,
   "metadata": {},
   "outputs": [],
   "source": [
    "# sample_records = np.load('sample_abs.npz')\n",
    "sample_abs_list = np.load('sample_abs_list.npz')\n",
    "sample_abstract = sample_abs_list['abs_list'][1]"
   ]
  },
  {
   "cell_type": "code",
   "execution_count": 13,
   "metadata": {},
   "outputs": [
    {
     "data": {
      "text/plain": [
       "'[\\'  The issue is the expediency of the QCD notions use in the low energy region\\\\ndown to the confinement scale, and, in particular, the efficacy of the QCD\\\\ninvariant coupling \\\\\\\\bar{\\\\\\\\alpha}_s(Q^2) with a minimal analytic modification in\\\\nthis domain. To this goal, we overview a quite recent progress in application\\\\nof the ghost-free Analytic Perturbative Theory approach (with no adjustable\\\\nparameters) for QCD in the region below 1 GeV. Among them the Bethe--Salpeter\\\\nanalysis of the meson spectra and spin-dependent (polarization) Bjorken sum\\\\nrule. The impression is that there is a chance for the theoretically consistent\\\\nand numerically correlated description of hadronic events from Z_0 till a few\\\\nhundred MeV scale by combination of analytic pQCD and some explicit\\\\nnon-perturbative contribution in the spirit of duality. This is an invitation\\\\nto the practitioner community for a more courageous use of ghost-free QCD\\\\ncoupling models for data analysis in the low energy region.\\\\n\\', \"Comment: 12 pages, 5 figures, to be published in ``Quantum Field Theory and\\\\n  Beyond\\'\\' (Essays in honor of Wolfhart Zimmermann on the occasion of his 80th\\\\n  birthday), WS(Singapore)\"]'"
      ]
     },
     "execution_count": 13,
     "metadata": {},
     "output_type": "execute_result"
    }
   ],
   "source": [
    "sample_abstract"
   ]
  },
  {
   "cell_type": "markdown",
   "metadata": {},
   "source": [
    "### Conditionor"
   ]
  },
  {
   "cell_type": "code",
   "execution_count": null,
   "metadata": {},
   "outputs": [],
   "source": [
    "\"\"\"\n",
    "The objective of this function is to get an abstract and return \n",
    "a list of words in the abstract. \n",
    "The idea is to get rid of some non-neccessary words and turn \n",
    "everything into their roots, also get rid of the latex and numbers\n",
    "and ...\n",
    "This function is to be used for making the dictionary and also in \n",
    "the vectorizer. \n",
    "\"\"\"\n",
    "\n",
    "def abstract_tokenizor(abstract):\n",
    "    \"\"\"\n",
    "    1. Tokenize, \n",
    "    2. Lemetize\n",
    "    3. get rid of stop words\n",
    "    4. get rid of latex and extra commands\n",
    "    \n",
    "    \"\"\"\n",
    "    return abstract_tl\n",
    "    "
   ]
  },
  {
   "cell_type": "markdown",
   "metadata": {},
   "source": [
    "### Dictator"
   ]
  },
  {
   "cell_type": "code",
   "execution_count": null,
   "metadata": {},
   "outputs": [],
   "source": [
    "def dictator(abs_list):\n",
    "    '''\n",
    "    Make a dictionary from all the abstract in the list\n",
    "    '''\n",
    "    return dictionary"
   ]
  },
  {
   "cell_type": "markdown",
   "metadata": {},
   "source": [
    "### Vectorizor"
   ]
  },
  {
   "cell_type": "code",
   "execution_count": null,
   "metadata": {},
   "outputs": [],
   "source": [
    "def vectorizer(abs_list, dictionary):\n",
    "    '''\n",
    "    Takes an input abstract and returns the \n",
    "    vector corresponding to that.\n",
    "    '''\n",
    "    return vec"
   ]
  }
 ],
 "metadata": {
  "kernelspec": {
   "display_name": "Python 3",
   "language": "python",
   "name": "python3"
  },
  "language_info": {
   "codemirror_mode": {
    "name": "ipython",
    "version": 3
   },
   "file_extension": ".py",
   "mimetype": "text/x-python",
   "name": "python",
   "nbconvert_exporter": "python",
   "pygments_lexer": "ipython3",
   "version": "3.6.6"
  },
  "toc": {
   "base_numbering": 1,
   "nav_menu": {},
   "number_sections": true,
   "sideBar": true,
   "skip_h1_title": false,
   "title_cell": "Table of Contents",
   "title_sidebar": "Contents",
   "toc_cell": false,
   "toc_position": {},
   "toc_section_display": true,
   "toc_window_display": false
  }
 },
 "nbformat": 4,
 "nbformat_minor": 2
}
